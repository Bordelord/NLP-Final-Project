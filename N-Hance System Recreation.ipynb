{
 "cells": [
  {
   "cell_type": "markdown",
   "metadata": {},
   "source": [
    "Names: Jorge Mazariegos & Cameron Knopp"
   ]
  },
  {
   "cell_type": "code",
   "execution_count": 59,
   "metadata": {},
   "outputs": [],
   "source": [
    "# imports statements\n",
    "import time\n",
    "from collections import defaultdict, Counter\n",
    "import string\n",
    "from bs4 import BeautifulSoup\n",
    "import matplotlib.pyplot as plt\n",
    "import numpy as np\n",
    "import torch\n",
    "#from gensim.models import KeyedVectors\n",
    "from torch.utils.data import Dataset, DataLoader\n",
    "from nltk import word_tokenize\n",
    "import nltk\n",
    "nltk.download('stopwords')\n",
    "from nltk.corpus import stopwords\n",
    "set(stopwords.words('english'))\n",
    "\n",
    "%matplotlib inline\n",
    "plt.style.use('seaborn-paper')"
   ]
  },
  {
   "cell_type": "code",
   "execution_count": 63,
   "metadata": {},
   "outputs": [],
   "source": [
    "# preprocess should take in the datasets (.xml) and prepare them to be used\n",
    "def preprocess(data):\n",
    "    \"\"\"\n",
    "    Args:\n",
    "        data (str):\n",
    "    Returns: a list of tokens\n",
    "\n",
    "    \"\"\"\n",
    "    ### YOUR CODE BELOW ###\n",
    "    tokens = []\n",
    "    tokens_with_punct = []\n",
    "    for sentence in data:\n",
    "        for word in sentence:\n",
    "             tokens_with_punct.append(word.lower())\n",
    "    for temp in tokens_with_punct:\n",
    "        for word in temp:\n",
    "            tokens.append((word_tokenize(word)))\n",
    "    stop = stopwords.words('english')\n",
    "    tokens = [token for token in tokens_with_punct if token.isalpha()] # remove punctuation from tokens\n",
    "    tokens_with_stop_words = tokens\n",
    "    tokens = [token for token in tokens_with_stop_words if token not in stop]\n",
    "    ### YOUR CODE ABOVE ###\n",
    "\n",
    "    return tokens"
   ]
  },
  {
   "cell_type": "code",
   "execution_count": 64,
   "metadata": {},
   "outputs": [],
   "source": [
    "# DATA PROCESSING #\n",
    "f = open('datasets/data/test/subtask1-heterographic-test.xml', 'r', encoding = 'utf8')\n",
    "data = f.read()\n",
    "\n",
    "soup = BeautifulSoup(data, 'xml')\n",
    "ids = soup.find_all('text')\n",
    "words = soup.find_all('word')\n",
    "\n",
    "sentence = []\n",
    "punList = []\n",
    "for i in range(0, len(ids)):\n",
    "    for line in ids[i]:\n",
    "        for word in line:\n",
    "            if(word != '\\n'):\n",
    "                sentence.append(word)       \n",
    "    punList.append(sentence)\n",
    "    sentence = []\n",
    "tokens = preprocess(punList)\n"
   ]
  },
  {
   "cell_type": "code",
   "execution_count": null,
   "metadata": {},
   "outputs": [],
   "source": []
  }
 ],
 "metadata": {
  "kernelspec": {
   "display_name": "Python 3",
   "language": "python",
   "name": "python3"
  },
  "language_info": {
   "codemirror_mode": {
    "name": "ipython",
    "version": 3
   },
   "file_extension": ".py",
   "mimetype": "text/x-python",
   "name": "python",
   "nbconvert_exporter": "python",
   "pygments_lexer": "ipython3",
   "version": "3.8.1"
  }
 },
 "nbformat": 4,
 "nbformat_minor": 4
}
